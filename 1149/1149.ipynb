{
 "cells": [
  {
   "cell_type": "markdown",
   "metadata": {},
   "source": [
    "# 문제\n",
    "RGB거리에는 집이 N개 있다. 거리는 선분으로 나타낼 수 있고, 1번 집부터 N번 집이 순서대로 있다.\n",
    "\n",
    "\n",
    "집은 빨강, 초록, 파랑 중 하나의 색으로 칠해야 한다. 각각의 집을 빨강, 초록, 파랑으로 칠하는 비용이 주어졌을 때, 아래 규칙\n",
    "을 만족하면서 모든 집을 칠하는 비용의 최솟값을 구해보자.\n",
    "\n",
    "\n",
    "1. 1번 집의 색은 2번 집의 색과 같지 않아야 한다.\n",
    "\n",
    "2. N번 집의 색은 N-1번 집의 색과 같지 않아야 한다.\n",
    "\n",
    "3. i(2 ≤ i ≤ N-1)번 집의 색은 i-1번, i+1번 집의 색과 같지 않아야 한다."
   ]
  },
  {
   "cell_type": "code",
   "execution_count": 27,
   "metadata": {},
   "outputs": [],
   "source": [
    "def rgb(num):\n",
    "    # 2차원 배열 입력받아줌\n",
    "    arr=[list(map(int,input().split())) for j in range(num)]\n",
    "  \n",
    "    result=[[0 for i in range(3)] for j in range(num)]\n",
    "    \n",
    "    result[0]=arr[0]\n",
    "    \n",
    "    for i in range(1,num):\n",
    "        result[i][0]=min(result[i-1][1],result[i-1][2])+arr[i][0]\n",
    "        result[i][1]=min(result[i-1][0],result[i-1][2])+arr[i][1]\n",
    "        result[i][2]=min(result[i-1][1],result[i-1][0])+arr[i][2]\n",
    "    return min(result[num-1])\n",
    "\n",
    "    \n",
    "    "
   ]
  },
  {
   "cell_type": "code",
   "execution_count": null,
   "metadata": {},
   "outputs": [],
   "source": [
    "num=int(input())\n",
    "print(rgb(num))"
   ]
  },
  {
   "cell_type": "markdown",
   "metadata": {},
   "source": [
    "# 개념\n",
    "\n",
    "result배열은 i번째 집에 어떤 색을 칠했을때 최소 비용을 보여준다.\n",
    "\n",
    "최종적으로 마지막 집에 r g b 셋을 칠했을 경우를 각각 비교에 최솟값을 return해준다."
   ]
  },
  {
   "cell_type": "code",
   "execution_count": null,
   "metadata": {},
   "outputs": [],
   "source": []
  }
 ],
 "metadata": {
  "kernelspec": {
   "display_name": "Python 3",
   "language": "python",
   "name": "python3"
  },
  "language_info": {
   "codemirror_mode": {
    "name": "ipython",
    "version": 3
   },
   "file_extension": ".py",
   "mimetype": "text/x-python",
   "name": "python",
   "nbconvert_exporter": "python",
   "pygments_lexer": "ipython3",
   "version": "3.7.4"
  }
 },
 "nbformat": 4,
 "nbformat_minor": 2
}
