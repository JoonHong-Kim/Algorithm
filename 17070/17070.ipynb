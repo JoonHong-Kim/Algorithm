{
 "cells": [
  {
   "cell_type": "code",
   "execution_count": 13,
   "metadata": {},
   "outputs": [
    {
     "name": "stdout",
     "output_type": "stream",
     "text": [
      "6\n",
      "0 0 0 0 0 0\n",
      "0 1 0 0 0 0\n",
      "0 0 0 0 0 0\n",
      "0 0 0 0 0 0\n",
      "0 0 0 0 0 0\n",
      "0 0 0 0 0 0\n"
     ]
    }
   ],
   "source": [
    "N=int(input())\n",
    "house=[list(map(int,input().split())) for i in range(N)]\n",
    "# / = \\ -> 귀찮아서 /로 대체\n",
    "dp=[[{'-':0,'/':0,'|':0} for i in range(N)] for j in range(N)]\n",
    "dp[0][1]['-']=1\n"
   ]
  },
  {
   "cell_type": "code",
   "execution_count": 14,
   "metadata": {},
   "outputs": [
    {
     "name": "stdout",
     "output_type": "stream",
     "text": [
      "13\n"
     ]
    }
   ],
   "source": [
    "for i in range(2,N):\n",
    "    if house[0][i] != 1:\n",
    "        dp[0][i]['-']=dp[0][i-1]['-']\n",
    "\n",
    "for i in range(1,N):\n",
    "    for j in range(2,N):\n",
    "        dp[i][j]['-']=0 if house[i][j] else (dp[i][j-1]['-']+dp[i][j-1]['/'])\n",
    "        dp[i][j]['|']=0 if house[i][j] else (dp[i-1][j]['/']+dp[i-1][j]['|'])\n",
    "        dp[i][j]['/']=0 if house[i][j] or house[i-1][j] or house[i][j-1] else (dp[i-1][j-1]['-']+dp[i-1][j-1]['/']+dp[i-1][j-1]['|']) \n",
    "print(sum(dp[N-1][N-1].values()))"
   ]
  },
  {
   "cell_type": "code",
   "execution_count": null,
   "metadata": {},
   "outputs": [],
   "source": []
  }
 ],
 "metadata": {
  "kernelspec": {
   "display_name": "Python 3",
   "language": "python",
   "name": "python3"
  },
  "language_info": {
   "codemirror_mode": {
    "name": "ipython",
    "version": 3
   },
   "file_extension": ".py",
   "mimetype": "text/x-python",
   "name": "python",
   "nbconvert_exporter": "python",
   "pygments_lexer": "ipython3",
   "version": "3.7.6"
  }
 },
 "nbformat": 4,
 "nbformat_minor": 4
}
