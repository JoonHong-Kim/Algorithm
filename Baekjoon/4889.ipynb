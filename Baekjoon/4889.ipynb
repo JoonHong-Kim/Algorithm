{
 "cells": [
  {
   "cell_type": "markdown",
   "metadata": {},
   "source": [
    "# 문제\n",
    "여는 괄호와 닫는 괄호만으로 이루어진 문자열이 주어진다. 여기서 안정적인 문자열을 만들기 위한 최소 연산의 수를 구하려고 한다. 안정적인 문자열의 정의란 다음과 같다.\n",
    "\n",
    "1. 빈 문자열은 안정적이다.\n",
    "2. S가 안정적이라면, {S}도 안정적인 문자열이다.\n",
    "3. S와 T가 안정적이라면, ST(두 문자열의 연결)도 안정적이다.\n",
    "{}, {}{}, {{}{}}는 안정적인 문자열이지만, }{, {{}{, {}{는 안정적인 문자열이 아니다.\n",
    "\n",
    "문자열에 행할 수 있는 연산은 여는 괄호를 닫는 괄호로 바꾸거나, 닫는 괄호를 여는 괄호로 바꾸는 것 2가지이다.\n",
    "\n",
    "각 테스트 케이스에 대해서, 테스트 케이스 번호와 입력으로 주어진 문자열을 안정적으로 바꾸는데 필요한 최소 연산의 수를 출력한다."
   ]
  },
  {
   "cell_type": "code",
   "execution_count": null,
   "metadata": {},
   "outputs": [],
   "source": [
    "count=1\n",
    "a=[]\n",
    "while True:\n",
    "    result=0\n",
    "    x =list(input())\n",
    "    if x[0]=='-':\n",
    "        for i in range(count-1):\n",
    "            print(str(i+1)+'. '+str(a[i]))\n",
    "        break\n",
    "    stack=[]\n",
    "    for i in x:\n",
    "        if i=='{':\n",
    "            stack.append(i)\n",
    "        else:\n",
    "            if not stack:\n",
    "                result+=1\n",
    "                stack.append('{')\n",
    "            else:\n",
    "                stack.pop()\n",
    "    result+=len(stack)//2\n",
    "    a.append(result)\n",
    "    count+=1\n",
    "    "
   ]
  },
  {
   "cell_type": "markdown",
   "metadata": {},
   "source": [
    "# 풀이\n",
    "stack 에 들어갈때 { 이면 그냥 push 해주고 } 일땐 두가지 경우가 생긴다.\n",
    "1. stack이 비어있을 경우\n",
    "2. stack에 { 가 들어있을 경우\n",
    "\n",
    "1 의 경우는 result 값을 1 더해주고 push 해준다. 2의 경우는 stack에서 pop을 해준다.\n",
    "\n",
    "최종적으로 result에 stack길이의 절반을 더해줌.\n",
    "\n"
   ]
  }
 ],
 "metadata": {
  "kernelspec": {
   "display_name": "Python 3",
   "language": "python",
   "name": "python3"
  },
  "language_info": {
   "codemirror_mode": {
    "name": "ipython",
    "version": 3
   },
   "file_extension": ".py",
   "mimetype": "text/x-python",
   "name": "python",
   "nbconvert_exporter": "python",
   "pygments_lexer": "ipython3",
   "version": "3.7.4"
  }
 },
 "nbformat": 4,
 "nbformat_minor": 2
}
