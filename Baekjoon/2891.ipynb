{
 "cells": [
  {
   "cell_type": "code",
   "execution_count": 6,
   "metadata": {},
   "outputs": [
    {
     "name": "stdout",
     "output_type": "stream",
     "text": [
      "9 5 2\n",
      "1 3 7 8 9\n",
      "5 9\n",
      "5\n"
     ]
    }
   ],
   "source": [
    "N,S,R=map(int,input().split())\n",
    "broken_index=map(int,input().split())\n",
    "bonus_index=map(int,input().split())\n",
    "\n",
    "boat=[1]*N\n",
    "for i in bonus_index:\n",
    "    boat[i-1]+=1\n",
    "for i in broken_index:\n",
    "    boat[i-1]-=1\n",
    "\n",
    "count=0\n",
    "for i in boat:\n",
    "    if i==0:\n",
    "        count+=1\n",
    "\n",
    "for index,val in enumerate(boat):\n",
    "    if val==2:\n",
    "        if index == 0:\n",
    "            if boat[index+1]==0:\n",
    "                count-=1\n",
    "                boat[index]-=1\n",
    "                boat[index+1]+=1\n",
    "        elif index == len(boat)-1:\n",
    "            if boat[index-1] == 0:\n",
    "                count-=1\n",
    "                boat[index]-=1\n",
    "                boat[index-1]+=1\n",
    "        else:\n",
    "            if boat[index-1] == 0:\n",
    "                count-=1\n",
    "                boat[index]-=1\n",
    "                boat[index-1]+=1\n",
    "            elif boat[index+1]==0:\n",
    "                count-=1\n",
    "                boat[index]-=1\n",
    "                boat[index+1]+=1\n",
    "            \n",
    "print(count)"
   ]
  },
  {
   "cell_type": "code",
   "execution_count": 2,
   "metadata": {},
   "outputs": [
    {
     "data": {
      "text/plain": [
       "5"
      ]
     },
     "execution_count": 2,
     "metadata": {},
     "output_type": "execute_result"
    }
   ],
   "source": []
  },
  {
   "cell_type": "code",
   "execution_count": null,
   "metadata": {},
   "outputs": [],
   "source": []
  }
 ],
 "metadata": {
  "kernelspec": {
   "display_name": "Python 3",
   "language": "python",
   "name": "python3"
  },
  "language_info": {
   "codemirror_mode": {
    "name": "ipython",
    "version": 3
   },
   "file_extension": ".py",
   "mimetype": "text/x-python",
   "name": "python",
   "nbconvert_exporter": "python",
   "pygments_lexer": "ipython3",
   "version": "3.7.7"
  }
 },
 "nbformat": 4,
 "nbformat_minor": 4
}
