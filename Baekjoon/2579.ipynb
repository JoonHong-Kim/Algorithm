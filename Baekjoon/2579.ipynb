{
 "cells": [
  {
   "cell_type": "code",
   "execution_count": null,
   "metadata": {},
   "outputs": [],
   "source": [
    "def cal():\n",
    "    num=int(input())\n",
    "    arr=[]\n",
    "    dp=[0 for i in range(num)]\n",
    "    for i in range(num):\n",
    "        arr.append(int(input()))\n",
    "\n",
    "    dp[0]=arr[0]\n",
    "    if num==1:\n",
    "        return dp[0]\n",
    "    dp[1]=dp[0]+arr[1]\n",
    "    if num==2:\n",
    "        return dp[1]\n",
    "    dp[2]=max(dp[0]+arr[2],arr[1]+arr[2])\n",
    "    if num==3:\n",
    "        return dp[2]\n",
    "    \n",
    "    for i in range(3,num):\n",
    "        dp[i]=max(dp[i-3]+arr[i-1]+arr[i],dp[i-2]+arr[i])\n",
    "    return dp[num-1]\n",
    "\n",
    "print(cal())"
   ]
  },
  {
   "cell_type": "markdown",
   "metadata": {},
   "source": [
    "\n",
    "### 개념\n",
    "끝 계단은 무조건 포함\n",
    "\n",
    "-> 3번째 전 계단 + i번째랑 i-1번째 더한것과 2번째 전계단 + i번째 계단 점수 비교하면 가능\n",
    "\n",
    "![img](./2579.jpg)\n",
    "예시로 본 개념 설명\n",
    "\n",
    "그렇게 나온 코드가 dp[i]=max(dp[i-3]+arr[i-1]+arr[i],dp[i-2]+arr[i]) 가 된다.\n"
   ]
  }
 ],
 "metadata": {
  "kernelspec": {
   "display_name": "Python 3",
   "language": "python",
   "name": "python3"
  },
  "language_info": {
   "codemirror_mode": {
    "name": "ipython",
    "version": 3
   },
   "file_extension": ".py",
   "mimetype": "text/x-python",
   "name": "python",
   "nbconvert_exporter": "python",
   "pygments_lexer": "ipython3",
   "version": "3.7.4"
  }
 },
 "nbformat": 4,
 "nbformat_minor": 2
}
