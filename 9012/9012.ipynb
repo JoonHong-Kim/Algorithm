{
 "cells": [
  {
   "cell_type": "markdown",
   "metadata": {},
   "source": [
    "# 문제\n",
    "괄호 문자열(Parenthesis String, PS)은 두 개의 괄호 기호인 ‘(’ 와 ‘)’ 만으로 구성되어 있는 문자열이다. 그 중에서 괄호의 모양이 바르게 구성된 문자열을 올바른 괄호 문자열(Valid PS, VPS)이라고 부른다. 한 쌍의 괄호 기호로 된 “( )” 문자열은 기본 VPS 이라고 부른다. 만일 x 가 VPS 라면 이것을 하나의 괄호에 넣은 새로운 문자열 “(x)”도 VPS 가 된다. 그리고 두 VPS x 와 y를 접합(concatenation)시킨 새로운 문자열 xy도 VPS 가 된다. 예를 들어 “(())()”와 “((()))” 는 VPS 이지만 “(()(”, “(())()))” , 그리고 “(()” 는 모두 VPS 가 아닌 문자열이다. \n",
    "\n",
    "여러분은 입력으로 주어진 괄호 문자열이 VPS 인지 아닌지를 판단해서 그 결과를 YES 와 NO 로 나타내어야 한다. "
   ]
  },
  {
   "cell_type": "code",
   "execution_count": 4,
   "metadata": {},
   "outputs": [
    {
     "name": "stdout",
     "output_type": "stream",
     "text": [
      "6\n",
      "(())())\n",
      "(((()())()\n",
      "(()())((()))\n",
      "((()()(()))(((())))()\n",
      "()()()()(()()())()\n",
      "(()((())()(\n",
      "NO\n",
      "NO\n",
      "NO\n",
      "YES\n",
      "NO\n",
      "YES\n"
     ]
    }
   ],
   "source": [
    "num=int(input())\n",
    "answer=[]\n",
    "for i in range(num):\n",
    "    \n",
    "    first=list(input())\n",
    "    stack=[]\n",
    "    flag=0\n",
    "    for j in range(len(first)):\n",
    "        if not stack and first[j]==')':\n",
    "            answer.append('NO')\n",
    "            flag=1\n",
    "            break\n",
    "        elif first[j]==')':\n",
    "            stack.pop()\n",
    "        else:\n",
    "            stack.append(first[j])\n",
    "    if not stack and flag==0:\n",
    "        answer.append('YES')\n",
    "    elif flag==0:\n",
    "        answer.append('NO')\n",
    "        \n",
    "for k in range(num):\n",
    "    print(answer[k])"
   ]
  },
  {
   "cell_type": "markdown",
   "metadata": {},
   "source": [
    "# 개념\n",
    "스택 문제"
   ]
  }
 ],
 "metadata": {
  "kernelspec": {
   "display_name": "Python 3",
   "language": "python",
   "name": "python3"
  },
  "language_info": {
   "codemirror_mode": {
    "name": "ipython",
    "version": 3
   },
   "file_extension": ".py",
   "mimetype": "text/x-python",
   "name": "python",
   "nbconvert_exporter": "python",
   "pygments_lexer": "ipython3",
   "version": "3.7.4"
  }
 },
 "nbformat": 4,
 "nbformat_minor": 2
}
