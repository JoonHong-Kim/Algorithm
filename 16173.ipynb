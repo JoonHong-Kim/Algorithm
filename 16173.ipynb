{
 "cells": [
  {
   "cell_type": "code",
   "execution_count": 3,
   "metadata": {},
   "outputs": [
    {
     "name": "stdout",
     "output_type": "stream",
     "text": [
      "3\n",
      "2 2 1\n",
      "2 2 2\n",
      "1 2 -1\n",
      "Hing\n"
     ]
    }
   ],
   "source": [
    "N=int(input())\n",
    "game=[]\n",
    "for i in range(N):\n",
    "    game.append(list(map(int,input().split())))\n",
    "def solution(game):\n",
    "    candidate=[(0,0)]\n",
    "    while candidate:\n",
    "        point=candidate.pop()\n",
    "        x,y=point[0],point[1]\n",
    "        jump=game[y][x]\n",
    "        if jump==0:\n",
    "            continue\n",
    "        if (x+jump==N-1 and y==N-1) or (y+jump==N-1 and x==N-1):\n",
    "            return 'HaruHaru'\n",
    "        if x+jump < N:\n",
    "            candidate.append((x+jump,y))\n",
    "        if y+jump < N:\n",
    "            candidate.append((x,y+jump))\n",
    "    return 'Hing'\n",
    "print(solution(game))\n"
   ]
  },
  {
   "cell_type": "code",
   "execution_count": null,
   "metadata": {},
   "outputs": [],
   "source": []
  }
 ],
 "metadata": {
  "kernelspec": {
   "display_name": "Python 3",
   "language": "python",
   "name": "python3"
  },
  "language_info": {
   "codemirror_mode": {
    "name": "ipython",
    "version": 3
   },
   "file_extension": ".py",
   "mimetype": "text/x-python",
   "name": "python",
   "nbconvert_exporter": "python",
   "pygments_lexer": "ipython3",
   "version": "3.7.7"
  }
 },
 "nbformat": 4,
 "nbformat_minor": 4
}
