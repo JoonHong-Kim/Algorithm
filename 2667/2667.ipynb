{
 "cells": [
  {
   "cell_type": "markdown",
   "metadata": {},
   "source": [
    "# 문제\n",
    "\n",
    "<그림 1>과 같이 정사각형 모양의 지도가 있다. 1은 집이 있는 곳을, 0은 집이 없는 곳을 나타낸다. 철수는 이 지도를 가지고 연결된 집의 모임인 단지를 정의하고, 단지에 번호를 붙이려 한다. 여기서 연결되었다는 것은 어떤 집이 좌우, 혹은 아래위로 다른 집이 있는 경우를 말한다. 대각선상에 집이 있는 경우는 연결된 것이 아니다. <그림 2>는 <그림 1>을 단지별로 번호를 붙인 것이다. 지도를 입력하여 단지수를 출력하고, 각 단지에 속하는 집의 수를 오름차순으로 정렬하여 출력하는 프로그램을 작성하시오.\n",
    "\n",
    "![a](./123.png)"
   ]
  },
  {
   "cell_type": "code",
   "execution_count": null,
   "metadata": {},
   "outputs": [],
   "source": [
    "def dfs(i,j,count):\n",
    "    count+=1\n",
    "    map_arr[i][j]=0\n",
    "    if i<num-1 and map_arr[i+1][j]==1:\n",
    "        count=dfs(i+1,j,count)\n",
    "    if i>0 and map_arr[i-1][j]==1:\n",
    "        count=dfs(i-1,j,count)\n",
    "    if j<num-1 and map_arr[i][j+1]==1:\n",
    "        count=dfs(i,j+1,count)\n",
    "    if j>0 and map_arr[i][j-1]==1:\n",
    "        count=dfs(i,j-1,count)\n",
    "    \n",
    "    return count"
   ]
  },
  {
   "cell_type": "code",
   "execution_count": null,
   "metadata": {
    "scrolled": true
   },
   "outputs": [],
   "source": [
    "num=int(input())\n",
    "map_arr=[list(map(int,input())) for j in range(num)]\n",
    "result=[]\n",
    "for x in range(num):\n",
    "    for y in range(num):\n",
    "        if map_arr[x][y]==1:\n",
    "            #print(x,y)\n",
    "            result.append(dfs(x,y,0))\n",
    "result.sort()\n",
    "print(len(result))\n",
    "for k in range(len(result)):\n",
    "    print(result[k])"
   ]
  },
  {
   "cell_type": "markdown",
   "metadata": {},
   "source": [
    "# 개념\n",
    "dfs 개념을 응용해서 풀었다.\n",
    "matrix 에서 우선 밑으로 내려가면서 count해주면서 1인 부분을 0으로 바꿔준다.\n",
    "그 다음 위 왼쪽 오른쪽 순으로 탐사해줌.\n",
    "\n",
    "dfs 라기보다 그냥 그래프 탐색이라 보면 편할것 같다."
   ]
  }
 ],
 "metadata": {
  "kernelspec": {
   "display_name": "Python 3",
   "language": "python",
   "name": "python3"
  },
  "language_info": {
   "codemirror_mode": {
    "name": "ipython",
    "version": 3
   },
   "file_extension": ".py",
   "mimetype": "text/x-python",
   "name": "python",
   "nbconvert_exporter": "python",
   "pygments_lexer": "ipython3",
   "version": "3.7.4"
  }
 },
 "nbformat": 4,
 "nbformat_minor": 2
}
