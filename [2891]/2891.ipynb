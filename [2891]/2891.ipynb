N,S,R=map(int,input().split())
broken_index=map(int,input().split())
bonus_index=map(int,input().split())

boat=[1]*N
for i in bonus_index:
    boat[i-1]+=1
for i in broken_index:
    boat[i-1]-=1

count=0
for i in boat:
    if i==0:
        count+=1

for index,val in enumerate(boat):
    if val==2:
        if index == 0:
            if boat[index+1]==0:
                count-=1
                boat[index]-=1
                boat[index+1]+=1
        elif index == len(boat)-1:
            if boat[index-1] == 0:
                count-=1
                boat[index]-=1
                boat[index-1]+=1
        else:
            if boat[index-1] == 0:
                count-=1
                boat[index]-=1
                boat[index-1]+=1
            elif boat[index+1]==0:
                count-=1
                boat[index]-=1
                boat[index+1]+=1
            
print(count)
