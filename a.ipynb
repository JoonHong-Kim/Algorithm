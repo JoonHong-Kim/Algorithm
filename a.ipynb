{
 "cells": [
  {
   "cell_type": "code",
   "execution_count": 21,
   "metadata": {},
   "outputs": [
    {
     "name": "stdout",
     "output_type": "stream",
     "text": [
      "['./a.ipynb', './Baekjoon/1149/1149.ipynb', './Baekjoon/11399/11399.ipynb', './Baekjoon/9012/9012.ipynb', './Baekjoon/2667/2667.ipynb', './Baekjoon/2667/123.png', './Baekjoon/17070/17070.ipynb', './Baekjoon/2579/2579.ipynb', './Baekjoon/2579/2579.jpg', './Baekjoon/4889/4889.ipynb', './Baekjoon/2891/2891.ipynb', './Leetcode/[Leetcode] 49. Group Anagrams/49.py', './Leetcode/[Leetcode] Two Sum/1.py', './Programmers/[프로그래머스] 행렬 테두리 회전하기/77485.py', './Programmers/[프로그래머스] 후보키/42890.py', './Programmers/[프로그래머스] 게임 맵 최단거리/1844.py', './Programmers/[프로그래머스] 소수 찾기/42839.py', './Programmers/[프로그래머스] 프린터/42587.py', './Programmers/[프로그래머스] 배달/12978.py', './Programmers/[프로그래머스] 캐시/17680.py', './Programmers/[프로그래머스] 뉴스 클러스터링/17677.py', './Programmers/[프로그래머스] 삼각 달팽이/68645.py', './Programmers/[프로그래머스] 메뉴 리뉴얼/72411.py', './16173.ipynb', './README.md']\n"
     ]
    }
   ],
   "source": [
    "import glob,os\n",
    "paths = [x for x  in glob.iglob('./**',recursive=True) if os.path.isfile(x)]\n",
    "print(paths)"
   ]
  },
  {
   "cell_type": "code",
   "execution_count": 26,
   "metadata": {},
   "outputs": [],
   "source": [
    "import shutil\n",
    "for f in paths:\n",
    "    s=f.split('/')\n",
    "    if len(s)<3:\n",
    "        continue\n",
    "    \n",
    "    s=s[:2]+s[-1:]\n",
    "    s='/'.join(s)\n",
    "    shutil.move(f,s)\n"
   ]
  },
  {
   "cell_type": "code",
   "execution_count": null,
   "metadata": {},
   "outputs": [],
   "source": []
  }
 ],
 "metadata": {
  "interpreter": {
   "hash": "3928ce73d3e8554c2cb19ff5f742de9fb9dfd96ce475bdbccb330f4dd8291676"
  },
  "kernelspec": {
   "display_name": "Python 3.9.7 ('base')",
   "language": "python",
   "name": "python3"
  },
  "language_info": {
   "codemirror_mode": {
    "name": "ipython",
    "version": 3
   },
   "file_extension": ".py",
   "mimetype": "text/x-python",
   "name": "python",
   "nbconvert_exporter": "python",
   "pygments_lexer": "ipython3",
   "version": "3.9.7"
  },
  "orig_nbformat": 4
 },
 "nbformat": 4,
 "nbformat_minor": 2
}
